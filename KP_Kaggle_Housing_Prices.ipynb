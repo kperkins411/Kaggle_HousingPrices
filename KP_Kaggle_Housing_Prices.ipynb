{
 "cells": [
  {
   "cell_type": "markdown",
   "metadata": {},
   "source": [
    "## House Prices Kernal\n",
    "from the following Kaggle competition<br>\n",
    "1. https://www.kaggle.com/c/house-prices-advanced-regression-techniques<br>\n",
    "Excellent tutorial where much of the data engineering came from<br>\n",
    "2. https://www.kaggle.com/serigne/stacked-regressions-top-4-on-leaderboard<br>\n",
    "Excellent data cleaning tutorial for this dataset (techniques used herein)<br>\n",
    "3. https://www.kaggle.com/virtonos/housing-prices-forecasts<br>\n",
    "and this one for treating categorical data<br>\n",
    "4. http://pbpython.com/categorical-encoding.html\n",
    "\n",
    "Feature engineering as per 2 and 3 kicked me up 1000 places, then I used 2's lightgbm \n",
    "model hyperparameters which kicked me up another 1000. I suppose I could have built \n",
    "my own or gridsearched or randomsearched my way to decent parameters.  But I'm lazy."
   ]
  },
  {
   "cell_type": "code",
   "execution_count": 76,
   "metadata": {},
   "outputs": [
    {
     "name": "stdout",
     "output_type": "stream",
     "text": [
      "The autoreload extension is already loaded. To reload it, use:\n",
      "  %reload_ext autoreload\n"
     ]
    }
   ],
   "source": [
    "%load_ext autoreload\n",
    "%autoreload 2\n",
    "%matplotlib inline"
   ]
  },
  {
   "cell_type": "code",
   "execution_count": 77,
   "metadata": {},
   "outputs": [],
   "source": [
    "from fastai.imports import *\n",
    "from fastai.structured import *\n",
    "\n",
    "from pandas_summary import DataFrameSummary\n",
    "from sklearn.ensemble import RandomForestRegressor, RandomForestClassifier\n",
    "from IPython.display import display\n",
    "\n",
    "from sklearn import metrics"
   ]
  },
  {
   "cell_type": "markdown",
   "metadata": {},
   "source": [
    "## Create paths"
   ]
  },
  {
   "cell_type": "code",
   "execution_count": 78,
   "metadata": {},
   "outputs": [],
   "source": [
    "import os\n",
    "def mkdir(pth):\n",
    "    if (not os.path.exists(pth)):\n",
    "        os.mkdir(pth)\n",
    "    \n",
    "PATH = \"data/KPData/HousePrices\"\n",
    "PATH_TRN = os.path.join(PATH,\"trn\")\n",
    "PATH_VAL = os.path.join(PATH,\"val\")\n",
    "PATH_TST = os.path.join(PATH,\"tst\")\n",
    "mkdir(PATH)\n",
    "mkdir(PATH_TRN)\n",
    "mkdir(PATH_VAL)\n",
    "mkdir(PATH_TST)      "
   ]
  },
  {
   "cell_type": "markdown",
   "metadata": {},
   "source": [
    "# Get data\n",
    "This data comes from the following Kaggle competition\n",
    "https://www.kaggle.com/c/house-prices-advanced-regression-techniques\n",
    "\n",
    "cannot do automatically through python unless you send login credentials to Kaggle (Kaggle api?)\n",
    "so get csv files using chrome\n",
    "use\n",
    "\n",
    "https://www.kaggle.com/c/house-prices-advanced-regression-techniques/download/test.csv\n",
    "\n",
    "https://www.kaggle.com/c/house-prices-advanced-regression-techniques/download/train.csv\n",
    "\n"
   ]
  },
  {
   "cell_type": "markdown",
   "metadata": {},
   "source": [
    "# View the data"
   ]
  },
  {
   "cell_type": "code",
   "execution_count": 79,
   "metadata": {},
   "outputs": [],
   "source": [
    "df_train = pd.read_csv(f'{PATH_TRN}/train.csv', low_memory=False)\n",
    "df_test = pd.read_csv(f'{PATH_TST}/test.csv', low_memory=False)\n",
    "\n",
    "numb_rows = df_train.shape[0]"
   ]
  },
  {
   "cell_type": "code",
   "execution_count": 80,
   "metadata": {},
   "outputs": [],
   "source": [
    "def display_all(df):\n",
    "    with pd.option_context(\"display.max_rows\", 1000): \n",
    "        with pd.option_context(\"display.max_columns\", 1000): \n",
    "            display(df)"
   ]
  },
  {
   "cell_type": "code",
   "execution_count": 81,
   "metadata": {},
   "outputs": [
    {
     "data": {
      "text/html": [
       "<div>\n",
       "<style scoped>\n",
       "    .dataframe tbody tr th:only-of-type {\n",
       "        vertical-align: middle;\n",
       "    }\n",
       "\n",
       "    .dataframe tbody tr th {\n",
       "        vertical-align: top;\n",
       "    }\n",
       "\n",
       "    .dataframe thead th {\n",
       "        text-align: right;\n",
       "    }\n",
       "</style>\n",
       "<table border=\"1\" class=\"dataframe\">\n",
       "  <thead>\n",
       "    <tr style=\"text-align: right;\">\n",
       "      <th></th>\n",
       "      <th>1455</th>\n",
       "      <th>1456</th>\n",
       "      <th>1457</th>\n",
       "      <th>1458</th>\n",
       "      <th>1459</th>\n",
       "    </tr>\n",
       "  </thead>\n",
       "  <tbody>\n",
       "    <tr>\n",
       "      <th>Id</th>\n",
       "      <td>1456</td>\n",
       "      <td>1457</td>\n",
       "      <td>1458</td>\n",
       "      <td>1459</td>\n",
       "      <td>1460</td>\n",
       "    </tr>\n",
       "    <tr>\n",
       "      <th>MSSubClass</th>\n",
       "      <td>60</td>\n",
       "      <td>20</td>\n",
       "      <td>70</td>\n",
       "      <td>20</td>\n",
       "      <td>20</td>\n",
       "    </tr>\n",
       "    <tr>\n",
       "      <th>MSZoning</th>\n",
       "      <td>RL</td>\n",
       "      <td>RL</td>\n",
       "      <td>RL</td>\n",
       "      <td>RL</td>\n",
       "      <td>RL</td>\n",
       "    </tr>\n",
       "    <tr>\n",
       "      <th>LotFrontage</th>\n",
       "      <td>62</td>\n",
       "      <td>85</td>\n",
       "      <td>66</td>\n",
       "      <td>68</td>\n",
       "      <td>75</td>\n",
       "    </tr>\n",
       "    <tr>\n",
       "      <th>LotArea</th>\n",
       "      <td>7917</td>\n",
       "      <td>13175</td>\n",
       "      <td>9042</td>\n",
       "      <td>9717</td>\n",
       "      <td>9937</td>\n",
       "    </tr>\n",
       "    <tr>\n",
       "      <th>Street</th>\n",
       "      <td>Pave</td>\n",
       "      <td>Pave</td>\n",
       "      <td>Pave</td>\n",
       "      <td>Pave</td>\n",
       "      <td>Pave</td>\n",
       "    </tr>\n",
       "    <tr>\n",
       "      <th>Alley</th>\n",
       "      <td>NaN</td>\n",
       "      <td>NaN</td>\n",
       "      <td>NaN</td>\n",
       "      <td>NaN</td>\n",
       "      <td>NaN</td>\n",
       "    </tr>\n",
       "    <tr>\n",
       "      <th>LotShape</th>\n",
       "      <td>Reg</td>\n",
       "      <td>Reg</td>\n",
       "      <td>Reg</td>\n",
       "      <td>Reg</td>\n",
       "      <td>Reg</td>\n",
       "    </tr>\n",
       "    <tr>\n",
       "      <th>LandContour</th>\n",
       "      <td>Lvl</td>\n",
       "      <td>Lvl</td>\n",
       "      <td>Lvl</td>\n",
       "      <td>Lvl</td>\n",
       "      <td>Lvl</td>\n",
       "    </tr>\n",
       "    <tr>\n",
       "      <th>Utilities</th>\n",
       "      <td>AllPub</td>\n",
       "      <td>AllPub</td>\n",
       "      <td>AllPub</td>\n",
       "      <td>AllPub</td>\n",
       "      <td>AllPub</td>\n",
       "    </tr>\n",
       "    <tr>\n",
       "      <th>LotConfig</th>\n",
       "      <td>Inside</td>\n",
       "      <td>Inside</td>\n",
       "      <td>Inside</td>\n",
       "      <td>Inside</td>\n",
       "      <td>Inside</td>\n",
       "    </tr>\n",
       "    <tr>\n",
       "      <th>LandSlope</th>\n",
       "      <td>Gtl</td>\n",
       "      <td>Gtl</td>\n",
       "      <td>Gtl</td>\n",
       "      <td>Gtl</td>\n",
       "      <td>Gtl</td>\n",
       "    </tr>\n",
       "    <tr>\n",
       "      <th>Neighborhood</th>\n",
       "      <td>Gilbert</td>\n",
       "      <td>NWAmes</td>\n",
       "      <td>Crawfor</td>\n",
       "      <td>NAmes</td>\n",
       "      <td>Edwards</td>\n",
       "    </tr>\n",
       "    <tr>\n",
       "      <th>Condition1</th>\n",
       "      <td>Norm</td>\n",
       "      <td>Norm</td>\n",
       "      <td>Norm</td>\n",
       "      <td>Norm</td>\n",
       "      <td>Norm</td>\n",
       "    </tr>\n",
       "    <tr>\n",
       "      <th>Condition2</th>\n",
       "      <td>Norm</td>\n",
       "      <td>Norm</td>\n",
       "      <td>Norm</td>\n",
       "      <td>Norm</td>\n",
       "      <td>Norm</td>\n",
       "    </tr>\n",
       "    <tr>\n",
       "      <th>BldgType</th>\n",
       "      <td>1Fam</td>\n",
       "      <td>1Fam</td>\n",
       "      <td>1Fam</td>\n",
       "      <td>1Fam</td>\n",
       "      <td>1Fam</td>\n",
       "    </tr>\n",
       "    <tr>\n",
       "      <th>HouseStyle</th>\n",
       "      <td>2Story</td>\n",
       "      <td>1Story</td>\n",
       "      <td>2Story</td>\n",
       "      <td>1Story</td>\n",
       "      <td>1Story</td>\n",
       "    </tr>\n",
       "    <tr>\n",
       "      <th>OverallQual</th>\n",
       "      <td>6</td>\n",
       "      <td>6</td>\n",
       "      <td>7</td>\n",
       "      <td>5</td>\n",
       "      <td>5</td>\n",
       "    </tr>\n",
       "    <tr>\n",
       "      <th>OverallCond</th>\n",
       "      <td>5</td>\n",
       "      <td>6</td>\n",
       "      <td>9</td>\n",
       "      <td>6</td>\n",
       "      <td>6</td>\n",
       "    </tr>\n",
       "    <tr>\n",
       "      <th>YearBuilt</th>\n",
       "      <td>1999</td>\n",
       "      <td>1978</td>\n",
       "      <td>1941</td>\n",
       "      <td>1950</td>\n",
       "      <td>1965</td>\n",
       "    </tr>\n",
       "    <tr>\n",
       "      <th>YearRemodAdd</th>\n",
       "      <td>2000</td>\n",
       "      <td>1988</td>\n",
       "      <td>2006</td>\n",
       "      <td>1996</td>\n",
       "      <td>1965</td>\n",
       "    </tr>\n",
       "    <tr>\n",
       "      <th>RoofStyle</th>\n",
       "      <td>Gable</td>\n",
       "      <td>Gable</td>\n",
       "      <td>Gable</td>\n",
       "      <td>Hip</td>\n",
       "      <td>Gable</td>\n",
       "    </tr>\n",
       "    <tr>\n",
       "      <th>RoofMatl</th>\n",
       "      <td>CompShg</td>\n",
       "      <td>CompShg</td>\n",
       "      <td>CompShg</td>\n",
       "      <td>CompShg</td>\n",
       "      <td>CompShg</td>\n",
       "    </tr>\n",
       "    <tr>\n",
       "      <th>Exterior1st</th>\n",
       "      <td>VinylSd</td>\n",
       "      <td>Plywood</td>\n",
       "      <td>CemntBd</td>\n",
       "      <td>MetalSd</td>\n",
       "      <td>HdBoard</td>\n",
       "    </tr>\n",
       "    <tr>\n",
       "      <th>Exterior2nd</th>\n",
       "      <td>VinylSd</td>\n",
       "      <td>Plywood</td>\n",
       "      <td>CmentBd</td>\n",
       "      <td>MetalSd</td>\n",
       "      <td>HdBoard</td>\n",
       "    </tr>\n",
       "    <tr>\n",
       "      <th>MasVnrType</th>\n",
       "      <td>None</td>\n",
       "      <td>Stone</td>\n",
       "      <td>None</td>\n",
       "      <td>None</td>\n",
       "      <td>None</td>\n",
       "    </tr>\n",
       "    <tr>\n",
       "      <th>MasVnrArea</th>\n",
       "      <td>0</td>\n",
       "      <td>119</td>\n",
       "      <td>0</td>\n",
       "      <td>0</td>\n",
       "      <td>0</td>\n",
       "    </tr>\n",
       "    <tr>\n",
       "      <th>ExterQual</th>\n",
       "      <td>TA</td>\n",
       "      <td>TA</td>\n",
       "      <td>Ex</td>\n",
       "      <td>TA</td>\n",
       "      <td>Gd</td>\n",
       "    </tr>\n",
       "    <tr>\n",
       "      <th>ExterCond</th>\n",
       "      <td>TA</td>\n",
       "      <td>TA</td>\n",
       "      <td>Gd</td>\n",
       "      <td>TA</td>\n",
       "      <td>TA</td>\n",
       "    </tr>\n",
       "    <tr>\n",
       "      <th>Foundation</th>\n",
       "      <td>PConc</td>\n",
       "      <td>CBlock</td>\n",
       "      <td>Stone</td>\n",
       "      <td>CBlock</td>\n",
       "      <td>CBlock</td>\n",
       "    </tr>\n",
       "    <tr>\n",
       "      <th>BsmtQual</th>\n",
       "      <td>Gd</td>\n",
       "      <td>Gd</td>\n",
       "      <td>TA</td>\n",
       "      <td>TA</td>\n",
       "      <td>TA</td>\n",
       "    </tr>\n",
       "    <tr>\n",
       "      <th>BsmtCond</th>\n",
       "      <td>TA</td>\n",
       "      <td>TA</td>\n",
       "      <td>Gd</td>\n",
       "      <td>TA</td>\n",
       "      <td>TA</td>\n",
       "    </tr>\n",
       "    <tr>\n",
       "      <th>BsmtExposure</th>\n",
       "      <td>No</td>\n",
       "      <td>No</td>\n",
       "      <td>No</td>\n",
       "      <td>Mn</td>\n",
       "      <td>No</td>\n",
       "    </tr>\n",
       "    <tr>\n",
       "      <th>BsmtFinType1</th>\n",
       "      <td>Unf</td>\n",
       "      <td>ALQ</td>\n",
       "      <td>GLQ</td>\n",
       "      <td>GLQ</td>\n",
       "      <td>BLQ</td>\n",
       "    </tr>\n",
       "    <tr>\n",
       "      <th>BsmtFinSF1</th>\n",
       "      <td>0</td>\n",
       "      <td>790</td>\n",
       "      <td>275</td>\n",
       "      <td>49</td>\n",
       "      <td>830</td>\n",
       "    </tr>\n",
       "    <tr>\n",
       "      <th>BsmtFinType2</th>\n",
       "      <td>Unf</td>\n",
       "      <td>Rec</td>\n",
       "      <td>Unf</td>\n",
       "      <td>Rec</td>\n",
       "      <td>LwQ</td>\n",
       "    </tr>\n",
       "    <tr>\n",
       "      <th>BsmtFinSF2</th>\n",
       "      <td>0</td>\n",
       "      <td>163</td>\n",
       "      <td>0</td>\n",
       "      <td>1029</td>\n",
       "      <td>290</td>\n",
       "    </tr>\n",
       "    <tr>\n",
       "      <th>BsmtUnfSF</th>\n",
       "      <td>953</td>\n",
       "      <td>589</td>\n",
       "      <td>877</td>\n",
       "      <td>0</td>\n",
       "      <td>136</td>\n",
       "    </tr>\n",
       "    <tr>\n",
       "      <th>TotalBsmtSF</th>\n",
       "      <td>953</td>\n",
       "      <td>1542</td>\n",
       "      <td>1152</td>\n",
       "      <td>1078</td>\n",
       "      <td>1256</td>\n",
       "    </tr>\n",
       "    <tr>\n",
       "      <th>Heating</th>\n",
       "      <td>GasA</td>\n",
       "      <td>GasA</td>\n",
       "      <td>GasA</td>\n",
       "      <td>GasA</td>\n",
       "      <td>GasA</td>\n",
       "    </tr>\n",
       "    <tr>\n",
       "      <th>HeatingQC</th>\n",
       "      <td>Ex</td>\n",
       "      <td>TA</td>\n",
       "      <td>Ex</td>\n",
       "      <td>Gd</td>\n",
       "      <td>Gd</td>\n",
       "    </tr>\n",
       "    <tr>\n",
       "      <th>CentralAir</th>\n",
       "      <td>Y</td>\n",
       "      <td>Y</td>\n",
       "      <td>Y</td>\n",
       "      <td>Y</td>\n",
       "      <td>Y</td>\n",
       "    </tr>\n",
       "    <tr>\n",
       "      <th>Electrical</th>\n",
       "      <td>SBrkr</td>\n",
       "      <td>SBrkr</td>\n",
       "      <td>SBrkr</td>\n",
       "      <td>FuseA</td>\n",
       "      <td>SBrkr</td>\n",
       "    </tr>\n",
       "    <tr>\n",
       "      <th>1stFlrSF</th>\n",
       "      <td>953</td>\n",
       "      <td>2073</td>\n",
       "      <td>1188</td>\n",
       "      <td>1078</td>\n",
       "      <td>1256</td>\n",
       "    </tr>\n",
       "    <tr>\n",
       "      <th>2ndFlrSF</th>\n",
       "      <td>694</td>\n",
       "      <td>0</td>\n",
       "      <td>1152</td>\n",
       "      <td>0</td>\n",
       "      <td>0</td>\n",
       "    </tr>\n",
       "    <tr>\n",
       "      <th>LowQualFinSF</th>\n",
       "      <td>0</td>\n",
       "      <td>0</td>\n",
       "      <td>0</td>\n",
       "      <td>0</td>\n",
       "      <td>0</td>\n",
       "    </tr>\n",
       "    <tr>\n",
       "      <th>GrLivArea</th>\n",
       "      <td>1647</td>\n",
       "      <td>2073</td>\n",
       "      <td>2340</td>\n",
       "      <td>1078</td>\n",
       "      <td>1256</td>\n",
       "    </tr>\n",
       "    <tr>\n",
       "      <th>BsmtFullBath</th>\n",
       "      <td>0</td>\n",
       "      <td>1</td>\n",
       "      <td>0</td>\n",
       "      <td>1</td>\n",
       "      <td>1</td>\n",
       "    </tr>\n",
       "    <tr>\n",
       "      <th>BsmtHalfBath</th>\n",
       "      <td>0</td>\n",
       "      <td>0</td>\n",
       "      <td>0</td>\n",
       "      <td>0</td>\n",
       "      <td>0</td>\n",
       "    </tr>\n",
       "    <tr>\n",
       "      <th>FullBath</th>\n",
       "      <td>2</td>\n",
       "      <td>2</td>\n",
       "      <td>2</td>\n",
       "      <td>1</td>\n",
       "      <td>1</td>\n",
       "    </tr>\n",
       "    <tr>\n",
       "      <th>HalfBath</th>\n",
       "      <td>1</td>\n",
       "      <td>0</td>\n",
       "      <td>0</td>\n",
       "      <td>0</td>\n",
       "      <td>1</td>\n",
       "    </tr>\n",
       "    <tr>\n",
       "      <th>BedroomAbvGr</th>\n",
       "      <td>3</td>\n",
       "      <td>3</td>\n",
       "      <td>4</td>\n",
       "      <td>2</td>\n",
       "      <td>3</td>\n",
       "    </tr>\n",
       "    <tr>\n",
       "      <th>KitchenAbvGr</th>\n",
       "      <td>1</td>\n",
       "      <td>1</td>\n",
       "      <td>1</td>\n",
       "      <td>1</td>\n",
       "      <td>1</td>\n",
       "    </tr>\n",
       "    <tr>\n",
       "      <th>KitchenQual</th>\n",
       "      <td>TA</td>\n",
       "      <td>TA</td>\n",
       "      <td>Gd</td>\n",
       "      <td>Gd</td>\n",
       "      <td>TA</td>\n",
       "    </tr>\n",
       "    <tr>\n",
       "      <th>TotRmsAbvGrd</th>\n",
       "      <td>7</td>\n",
       "      <td>7</td>\n",
       "      <td>9</td>\n",
       "      <td>5</td>\n",
       "      <td>6</td>\n",
       "    </tr>\n",
       "    <tr>\n",
       "      <th>Functional</th>\n",
       "      <td>Typ</td>\n",
       "      <td>Min1</td>\n",
       "      <td>Typ</td>\n",
       "      <td>Typ</td>\n",
       "      <td>Typ</td>\n",
       "    </tr>\n",
       "    <tr>\n",
       "      <th>Fireplaces</th>\n",
       "      <td>1</td>\n",
       "      <td>2</td>\n",
       "      <td>2</td>\n",
       "      <td>0</td>\n",
       "      <td>0</td>\n",
       "    </tr>\n",
       "    <tr>\n",
       "      <th>FireplaceQu</th>\n",
       "      <td>TA</td>\n",
       "      <td>TA</td>\n",
       "      <td>Gd</td>\n",
       "      <td>NaN</td>\n",
       "      <td>NaN</td>\n",
       "    </tr>\n",
       "    <tr>\n",
       "      <th>GarageType</th>\n",
       "      <td>Attchd</td>\n",
       "      <td>Attchd</td>\n",
       "      <td>Attchd</td>\n",
       "      <td>Attchd</td>\n",
       "      <td>Attchd</td>\n",
       "    </tr>\n",
       "    <tr>\n",
       "      <th>GarageYrBlt</th>\n",
       "      <td>1999</td>\n",
       "      <td>1978</td>\n",
       "      <td>1941</td>\n",
       "      <td>1950</td>\n",
       "      <td>1965</td>\n",
       "    </tr>\n",
       "    <tr>\n",
       "      <th>GarageFinish</th>\n",
       "      <td>RFn</td>\n",
       "      <td>Unf</td>\n",
       "      <td>RFn</td>\n",
       "      <td>Unf</td>\n",
       "      <td>Fin</td>\n",
       "    </tr>\n",
       "    <tr>\n",
       "      <th>GarageCars</th>\n",
       "      <td>2</td>\n",
       "      <td>2</td>\n",
       "      <td>1</td>\n",
       "      <td>1</td>\n",
       "      <td>1</td>\n",
       "    </tr>\n",
       "    <tr>\n",
       "      <th>GarageArea</th>\n",
       "      <td>460</td>\n",
       "      <td>500</td>\n",
       "      <td>252</td>\n",
       "      <td>240</td>\n",
       "      <td>276</td>\n",
       "    </tr>\n",
       "    <tr>\n",
       "      <th>GarageQual</th>\n",
       "      <td>TA</td>\n",
       "      <td>TA</td>\n",
       "      <td>TA</td>\n",
       "      <td>TA</td>\n",
       "      <td>TA</td>\n",
       "    </tr>\n",
       "    <tr>\n",
       "      <th>GarageCond</th>\n",
       "      <td>TA</td>\n",
       "      <td>TA</td>\n",
       "      <td>TA</td>\n",
       "      <td>TA</td>\n",
       "      <td>TA</td>\n",
       "    </tr>\n",
       "    <tr>\n",
       "      <th>PavedDrive</th>\n",
       "      <td>Y</td>\n",
       "      <td>Y</td>\n",
       "      <td>Y</td>\n",
       "      <td>Y</td>\n",
       "      <td>Y</td>\n",
       "    </tr>\n",
       "    <tr>\n",
       "      <th>WoodDeckSF</th>\n",
       "      <td>0</td>\n",
       "      <td>349</td>\n",
       "      <td>0</td>\n",
       "      <td>366</td>\n",
       "      <td>736</td>\n",
       "    </tr>\n",
       "    <tr>\n",
       "      <th>OpenPorchSF</th>\n",
       "      <td>40</td>\n",
       "      <td>0</td>\n",
       "      <td>60</td>\n",
       "      <td>0</td>\n",
       "      <td>68</td>\n",
       "    </tr>\n",
       "    <tr>\n",
       "      <th>EnclosedPorch</th>\n",
       "      <td>0</td>\n",
       "      <td>0</td>\n",
       "      <td>0</td>\n",
       "      <td>112</td>\n",
       "      <td>0</td>\n",
       "    </tr>\n",
       "    <tr>\n",
       "      <th>3SsnPorch</th>\n",
       "      <td>0</td>\n",
       "      <td>0</td>\n",
       "      <td>0</td>\n",
       "      <td>0</td>\n",
       "      <td>0</td>\n",
       "    </tr>\n",
       "    <tr>\n",
       "      <th>ScreenPorch</th>\n",
       "      <td>0</td>\n",
       "      <td>0</td>\n",
       "      <td>0</td>\n",
       "      <td>0</td>\n",
       "      <td>0</td>\n",
       "    </tr>\n",
       "    <tr>\n",
       "      <th>PoolArea</th>\n",
       "      <td>0</td>\n",
       "      <td>0</td>\n",
       "      <td>0</td>\n",
       "      <td>0</td>\n",
       "      <td>0</td>\n",
       "    </tr>\n",
       "    <tr>\n",
       "      <th>PoolQC</th>\n",
       "      <td>NaN</td>\n",
       "      <td>NaN</td>\n",
       "      <td>NaN</td>\n",
       "      <td>NaN</td>\n",
       "      <td>NaN</td>\n",
       "    </tr>\n",
       "    <tr>\n",
       "      <th>Fence</th>\n",
       "      <td>NaN</td>\n",
       "      <td>MnPrv</td>\n",
       "      <td>GdPrv</td>\n",
       "      <td>NaN</td>\n",
       "      <td>NaN</td>\n",
       "    </tr>\n",
       "    <tr>\n",
       "      <th>MiscFeature</th>\n",
       "      <td>NaN</td>\n",
       "      <td>NaN</td>\n",
       "      <td>Shed</td>\n",
       "      <td>NaN</td>\n",
       "      <td>NaN</td>\n",
       "    </tr>\n",
       "    <tr>\n",
       "      <th>MiscVal</th>\n",
       "      <td>0</td>\n",
       "      <td>0</td>\n",
       "      <td>2500</td>\n",
       "      <td>0</td>\n",
       "      <td>0</td>\n",
       "    </tr>\n",
       "    <tr>\n",
       "      <th>MoSold</th>\n",
       "      <td>8</td>\n",
       "      <td>2</td>\n",
       "      <td>5</td>\n",
       "      <td>4</td>\n",
       "      <td>6</td>\n",
       "    </tr>\n",
       "    <tr>\n",
       "      <th>YrSold</th>\n",
       "      <td>2007</td>\n",
       "      <td>2010</td>\n",
       "      <td>2010</td>\n",
       "      <td>2010</td>\n",
       "      <td>2008</td>\n",
       "    </tr>\n",
       "    <tr>\n",
       "      <th>SaleType</th>\n",
       "      <td>WD</td>\n",
       "      <td>WD</td>\n",
       "      <td>WD</td>\n",
       "      <td>WD</td>\n",
       "      <td>WD</td>\n",
       "    </tr>\n",
       "    <tr>\n",
       "      <th>SaleCondition</th>\n",
       "      <td>Normal</td>\n",
       "      <td>Normal</td>\n",
       "      <td>Normal</td>\n",
       "      <td>Normal</td>\n",
       "      <td>Normal</td>\n",
       "    </tr>\n",
       "    <tr>\n",
       "      <th>SalePrice</th>\n",
       "      <td>175000</td>\n",
       "      <td>210000</td>\n",
       "      <td>266500</td>\n",
       "      <td>142125</td>\n",
       "      <td>147500</td>\n",
       "    </tr>\n",
       "  </tbody>\n",
       "</table>\n",
       "</div>"
      ],
      "text/plain": [
       "                  1455     1456     1457     1458     1459\n",
       "Id                1456     1457     1458     1459     1460\n",
       "MSSubClass          60       20       70       20       20\n",
       "MSZoning            RL       RL       RL       RL       RL\n",
       "LotFrontage         62       85       66       68       75\n",
       "LotArea           7917    13175     9042     9717     9937\n",
       "Street            Pave     Pave     Pave     Pave     Pave\n",
       "Alley              NaN      NaN      NaN      NaN      NaN\n",
       "LotShape           Reg      Reg      Reg      Reg      Reg\n",
       "LandContour        Lvl      Lvl      Lvl      Lvl      Lvl\n",
       "Utilities       AllPub   AllPub   AllPub   AllPub   AllPub\n",
       "LotConfig       Inside   Inside   Inside   Inside   Inside\n",
       "LandSlope          Gtl      Gtl      Gtl      Gtl      Gtl\n",
       "Neighborhood   Gilbert   NWAmes  Crawfor    NAmes  Edwards\n",
       "Condition1        Norm     Norm     Norm     Norm     Norm\n",
       "Condition2        Norm     Norm     Norm     Norm     Norm\n",
       "BldgType          1Fam     1Fam     1Fam     1Fam     1Fam\n",
       "HouseStyle      2Story   1Story   2Story   1Story   1Story\n",
       "OverallQual          6        6        7        5        5\n",
       "OverallCond          5        6        9        6        6\n",
       "YearBuilt         1999     1978     1941     1950     1965\n",
       "YearRemodAdd      2000     1988     2006     1996     1965\n",
       "RoofStyle        Gable    Gable    Gable      Hip    Gable\n",
       "RoofMatl       CompShg  CompShg  CompShg  CompShg  CompShg\n",
       "Exterior1st    VinylSd  Plywood  CemntBd  MetalSd  HdBoard\n",
       "Exterior2nd    VinylSd  Plywood  CmentBd  MetalSd  HdBoard\n",
       "MasVnrType        None    Stone     None     None     None\n",
       "MasVnrArea           0      119        0        0        0\n",
       "ExterQual           TA       TA       Ex       TA       Gd\n",
       "ExterCond           TA       TA       Gd       TA       TA\n",
       "Foundation       PConc   CBlock    Stone   CBlock   CBlock\n",
       "BsmtQual            Gd       Gd       TA       TA       TA\n",
       "BsmtCond            TA       TA       Gd       TA       TA\n",
       "BsmtExposure        No       No       No       Mn       No\n",
       "BsmtFinType1       Unf      ALQ      GLQ      GLQ      BLQ\n",
       "BsmtFinSF1           0      790      275       49      830\n",
       "BsmtFinType2       Unf      Rec      Unf      Rec      LwQ\n",
       "BsmtFinSF2           0      163        0     1029      290\n",
       "BsmtUnfSF          953      589      877        0      136\n",
       "TotalBsmtSF        953     1542     1152     1078     1256\n",
       "Heating           GasA     GasA     GasA     GasA     GasA\n",
       "HeatingQC           Ex       TA       Ex       Gd       Gd\n",
       "CentralAir           Y        Y        Y        Y        Y\n",
       "Electrical       SBrkr    SBrkr    SBrkr    FuseA    SBrkr\n",
       "1stFlrSF           953     2073     1188     1078     1256\n",
       "2ndFlrSF           694        0     1152        0        0\n",
       "LowQualFinSF         0        0        0        0        0\n",
       "GrLivArea         1647     2073     2340     1078     1256\n",
       "BsmtFullBath         0        1        0        1        1\n",
       "BsmtHalfBath         0        0        0        0        0\n",
       "FullBath             2        2        2        1        1\n",
       "HalfBath             1        0        0        0        1\n",
       "BedroomAbvGr         3        3        4        2        3\n",
       "KitchenAbvGr         1        1        1        1        1\n",
       "KitchenQual         TA       TA       Gd       Gd       TA\n",
       "TotRmsAbvGrd         7        7        9        5        6\n",
       "Functional         Typ     Min1      Typ      Typ      Typ\n",
       "Fireplaces           1        2        2        0        0\n",
       "FireplaceQu         TA       TA       Gd      NaN      NaN\n",
       "GarageType      Attchd   Attchd   Attchd   Attchd   Attchd\n",
       "GarageYrBlt       1999     1978     1941     1950     1965\n",
       "GarageFinish       RFn      Unf      RFn      Unf      Fin\n",
       "GarageCars           2        2        1        1        1\n",
       "GarageArea         460      500      252      240      276\n",
       "GarageQual          TA       TA       TA       TA       TA\n",
       "GarageCond          TA       TA       TA       TA       TA\n",
       "PavedDrive           Y        Y        Y        Y        Y\n",
       "WoodDeckSF           0      349        0      366      736\n",
       "OpenPorchSF         40        0       60        0       68\n",
       "EnclosedPorch        0        0        0      112        0\n",
       "3SsnPorch            0        0        0        0        0\n",
       "ScreenPorch          0        0        0        0        0\n",
       "PoolArea             0        0        0        0        0\n",
       "PoolQC             NaN      NaN      NaN      NaN      NaN\n",
       "Fence              NaN    MnPrv    GdPrv      NaN      NaN\n",
       "MiscFeature        NaN      NaN     Shed      NaN      NaN\n",
       "MiscVal              0        0     2500        0        0\n",
       "MoSold               8        2        5        4        6\n",
       "YrSold            2007     2010     2010     2010     2008\n",
       "SaleType            WD       WD       WD       WD       WD\n",
       "SaleCondition   Normal   Normal   Normal   Normal   Normal\n",
       "SalePrice       175000   210000   266500   142125   147500"
      ]
     },
     "metadata": {},
     "output_type": "display_data"
    }
   ],
   "source": [
    "display_all(df_train.tail().transpose())"
   ]
  },
  {
   "cell_type": "markdown",
   "metadata": {},
   "source": [
    "## Get rid of some outliers"
   ]
  },
  {
   "cell_type": "code",
   "execution_count": 82,
   "metadata": {},
   "outputs": [],
   "source": [
    "# Price vs Living area - the bigger the house usually the more money its worth\n",
    "#scatter plot grlivarea/saleprice\n",
    "def showdata(ds):\n",
    "    var = 'GrLivArea'\n",
    "    data = pd.concat([ds['SalePrice'], ds[var]], axis=1)\n",
    "    data.plot.scatter(x=var, y='SalePrice', marker = \"s\", title = \"Looking for outliers\");"
   ]
  },
  {
   "cell_type": "code",
   "execution_count": 83,
   "metadata": {},
   "outputs": [
    {
     "data": {
      "image/png": "[encoded data removed]",
      "text/plain": [
       "<matplotlib.figure.Figure at 0x7f2a60e98f60>"
      ]
     },
     "metadata": {},
     "output_type": "display_data"
    }
   ],
   "source": [
    "#look for outliers\n",
    "showdata(df_train)"
   ]
  },
  {
   "cell_type": "code",
   "execution_count": 84,
   "metadata": {},
   "outputs": [],
   "source": [
    "#get rid of the 2 outliers\n",
    "df_train = df_train[df_train['GrLivArea'] < 4500]"
   ]
  },
  {
   "cell_type": "markdown",
   "metadata": {},
   "source": [
    "## Lets see what salesprice looks like"
   ]
  },
  {
   "cell_type": "code",
   "execution_count": 85,
   "metadata": {},
   "outputs": [
    {
     "data": {
      "text/plain": [
       "count      1458.000000\n",
       "mean     180932.919067\n",
       "std       79495.055285\n",
       "min       34900.000000\n",
       "25%      129925.000000\n",
       "50%      163000.000000\n",
       "75%      214000.000000\n",
       "max      755000.000000\n",
       "Name: SalePrice, dtype: float64"
      ]
     },
     "execution_count": 85,
     "metadata": {},
     "output_type": "execute_result"
    }
   ],
   "source": [
    "#get some stats on the response variable\n",
    "df_train['SalePrice'].describe()"
   ]
  },
  {
   "cell_type": "code",
   "execution_count": 86,
   "metadata": {},
   "outputs": [
    {
     "name": "stdout",
     "output_type": "stream",
     "text": [
      "\n",
      " mu = 180932.92 and sigma = 79467.79\n",
      "\n"
     ]
    },
    {
     "data": {
      "image/png": "[encoded data removed]",
      "text/plain": [
       "<matplotlib.figure.Figure at 0x7f2a5c391f28>"
      ]
     },
     "metadata": {},
     "output_type": "display_data"
    },
    {
     "data": {
      "image/png": "[encoded data removed]",
      "text/plain": [
       "<matplotlib.figure.Figure at 0x7f2a5c391eb8>"
      ]
     },
     "metadata": {},
     "output_type": "display_data"
    }
   ],
   "source": [
    "from scipy.stats import norm, skew #for some statistics\n",
    "from scipy import stats\n",
    "\n",
    "sns.distplot(df_train['SalePrice'] , fit=norm);\n",
    "\n",
    "# Get the fitted parameters used by the function\n",
    "(mu, sigma) = norm.fit(df_train['SalePrice'])\n",
    "print( '\\n mu = {:.2f} and sigma = {:.2f}\\n'.format(mu, sigma))\n",
    "\n",
    "#Now plot the distribution\n",
    "plt.legend(['Normal dist. ($\\mu=$ {:.2f} and $\\sigma=$ {:.2f} )'.format(mu, sigma)],\n",
    "            loc='best')\n",
    "plt.ylabel('Frequency')\n",
    "plt.title('SalePrice distribution')\n",
    "\n",
    "#Get also the QQ-plot\n",
    "fig = plt.figure()\n",
    "res = stats.probplot(df_train['SalePrice'], plot=plt)\n",
    "plt.show()"
   ]
  },
  {
   "cell_type": "markdown",
   "metadata": {},
   "source": [
    "### The target variable is right skewed. As (linear) models love normally distributed data , we need to transform this variable and make it more normally distributed."
   ]
  },
  {
   "cell_type": "markdown",
   "metadata": {},
   "source": [
    "Log transformation of the dependant variable (SalesPrice)"
   ]
  },
  {
   "cell_type": "code",
   "execution_count": 87,
   "metadata": {},
   "outputs": [
    {
     "name": "stdout",
     "output_type": "stream",
     "text": [
      "\n",
      " mu = 12.02 and sigma = 0.40\n",
      "\n"
     ]
    },
    {
     "data": {
      "image/png": "[encoded data removed]",
      "text/plain": [
       "<matplotlib.figure.Figure at 0x7f2a51631320>"
      ]
     },
     "metadata": {},
     "output_type": "display_data"
    },
    {
     "data": {
      "image/png": "[encoded data removed]",
      "text/plain": [
       "<matplotlib.figure.Figure at 0x7f2a5c4bee10>"
      ]
     },
     "metadata": {},
     "output_type": "display_data"
    }
   ],
   "source": [
    "#We use the numpy fuction log1p which  applies log(1+x) to all elements of the column\n",
    "df_train[\"SalePrice\"] = np.log1p(df_train[\"SalePrice\"])\n",
    "\n",
    "#Check the new distribution \n",
    "sns.distplot(df_train['SalePrice'] , fit=norm);\n",
    "\n",
    "# Get the fitted parameters used by the function\n",
    "(mu, sigma) = norm.fit(df_train['SalePrice'])\n",
    "print( '\\n mu = {:.2f} and sigma = {:.2f}\\n'.format(mu, sigma))\n",
    "\n",
    "#Now plot the distribution\n",
    "plt.legend(['Normal dist. ($\\mu=$ {:.2f} and $\\sigma=$ {:.2f} )'.format(mu, sigma)],\n",
    "            loc='best')\n",
    "plt.ylabel('Frequency')\n",
    "plt.title('SalePrice distribution')\n",
    "\n",
    "#Get also the QQ-plot\n",
    "fig = plt.figure()\n",
    "res = stats.probplot(df_train['SalePrice'], plot=plt)\n",
    "plt.show()"
   ]
  },
  {
   "cell_type": "markdown",
   "metadata": {},
   "source": [
    "Skew is corrected and the data appears normally distributed"
   ]
  },
  {
   "cell_type": "markdown",
   "metadata": {},
   "source": [
    "## Concatenate the train and test sets to do feature engineering"
   ]
  },
  {
   "cell_type": "code",
   "execution_count": 88,
   "metadata": {},
   "outputs": [
    {
     "name": "stdout",
     "output_type": "stream",
     "text": [
      "all_data size is : (2917, 80)\n",
      "(1459,)\n"
     ]
    }
   ],
   "source": [
    "#remember their size so we can split them later\n",
    "ntrain = df_train.shape[0]\n",
    "ntest = df_test.shape[0]\n",
    "\n",
    "#need this for training\n",
    "y  = df_train.SalePrice.values\n",
    "all_data = pd.concat((df_train, df_test)).reset_index(drop=True)\n",
    "all_data.drop(['SalePrice'], axis=1, inplace=True)\n",
    "print(\"all_data size is : {}\".format(all_data.shape))\n",
    "\n",
    "#ID is a conundrum, it aint useful for predicting anything but its needed for test\n",
    "#to identify what test we are predicting\n",
    "df_test_Id=df_test.Id\n",
    "\n",
    "# all_data_ID = all_data.Id\n",
    "all_data.drop(\"Id\", axis = 1, inplace = True)\n",
    "print (str(df_test_Id.shape))"
   ]
  },
  {
   "cell_type": "markdown",
   "metadata": {},
   "source": [
    "# Handle Missing Data"
   ]
  },
  {
   "cell_type": "code",
   "execution_count": 89,
   "metadata": {},
   "outputs": [
    {
     "data": {
      "text/html": [
       "<div>\n",
       "<style scoped>\n",
       "    .dataframe tbody tr th:only-of-type {\n",
       "        vertical-align: middle;\n",
       "    }\n",
       "\n",
       "    .dataframe tbody tr th {\n",
       "        vertical-align: top;\n",
       "    }\n",
       "\n",
       "    .dataframe thead th {\n",
       "        text-align: right;\n",
       "    }\n",
       "</style>\n",
       "<table border=\"1\" class=\"dataframe\">\n",
       "  <thead>\n",
       "    <tr style=\"text-align: right;\">\n",
       "      <th></th>\n",
       "      <th>Total</th>\n",
       "      <th>Percent</th>\n",
       "    </tr>\n",
       "  </thead>\n",
       "  <tbody>\n",
       "    <tr>\n",
       "      <th>PoolQC</th>\n",
       "      <td>2908</td>\n",
       "      <td>0.996915</td>\n",
       "    </tr>\n",
       "    <tr>\n",
       "      <th>MiscFeature</th>\n",
       "      <td>2812</td>\n",
       "      <td>0.964004</td>\n",
       "    </tr>\n",
       "    <tr>\n",
       "      <th>Alley</th>\n",
       "      <td>2719</td>\n",
       "      <td>0.932122</td>\n",
       "    </tr>\n",
       "    <tr>\n",
       "      <th>Fence</th>\n",
       "      <td>2346</td>\n",
       "      <td>0.804251</td>\n",
       "    </tr>\n",
       "    <tr>\n",
       "      <th>FireplaceQu</th>\n",
       "      <td>1420</td>\n",
       "      <td>0.486802</td>\n",
       "    </tr>\n",
       "    <tr>\n",
       "      <th>LotFrontage</th>\n",
       "      <td>486</td>\n",
       "      <td>0.166610</td>\n",
       "    </tr>\n",
       "    <tr>\n",
       "      <th>GarageFinish</th>\n",
       "      <td>159</td>\n",
       "      <td>0.054508</td>\n",
       "    </tr>\n",
       "    <tr>\n",
       "      <th>GarageQual</th>\n",
       "      <td>159</td>\n",
       "      <td>0.054508</td>\n",
       "    </tr>\n",
       "    <tr>\n",
       "      <th>GarageYrBlt</th>\n",
       "      <td>159</td>\n",
       "      <td>0.054508</td>\n",
       "    </tr>\n",
       "    <tr>\n",
       "      <th>GarageCond</th>\n",
       "      <td>159</td>\n",
       "      <td>0.054508</td>\n",
       "    </tr>\n",
       "    <tr>\n",
       "      <th>GarageType</th>\n",
       "      <td>157</td>\n",
       "      <td>0.053822</td>\n",
       "    </tr>\n",
       "    <tr>\n",
       "      <th>BsmtCond</th>\n",
       "      <td>82</td>\n",
       "      <td>0.028111</td>\n",
       "    </tr>\n",
       "    <tr>\n",
       "      <th>BsmtExposure</th>\n",
       "      <td>82</td>\n",
       "      <td>0.028111</td>\n",
       "    </tr>\n",
       "    <tr>\n",
       "      <th>BsmtQual</th>\n",
       "      <td>81</td>\n",
       "      <td>0.027768</td>\n",
       "    </tr>\n",
       "    <tr>\n",
       "      <th>BsmtFinType2</th>\n",
       "      <td>80</td>\n",
       "      <td>0.027425</td>\n",
       "    </tr>\n",
       "    <tr>\n",
       "      <th>BsmtFinType1</th>\n",
       "      <td>79</td>\n",
       "      <td>0.027083</td>\n",
       "    </tr>\n",
       "    <tr>\n",
       "      <th>MasVnrType</th>\n",
       "      <td>24</td>\n",
       "      <td>0.008228</td>\n",
       "    </tr>\n",
       "    <tr>\n",
       "      <th>MasVnrArea</th>\n",
       "      <td>23</td>\n",
       "      <td>0.007885</td>\n",
       "    </tr>\n",
       "    <tr>\n",
       "      <th>MSZoning</th>\n",
       "      <td>4</td>\n",
       "      <td>0.001371</td>\n",
       "    </tr>\n",
       "    <tr>\n",
       "      <th>BsmtHalfBath</th>\n",
       "      <td>2</td>\n",
       "      <td>0.000686</td>\n",
       "    </tr>\n",
       "  </tbody>\n",
       "</table>\n",
       "</div>"
      ],
      "text/plain": [
       "              Total   Percent\n",
       "PoolQC         2908  0.996915\n",
       "MiscFeature    2812  0.964004\n",
       "Alley          2719  0.932122\n",
       "Fence          2346  0.804251\n",
       "FireplaceQu    1420  0.486802\n",
       "LotFrontage     486  0.166610\n",
       "GarageFinish    159  0.054508\n",
       "GarageQual      159  0.054508\n",
       "GarageYrBlt     159  0.054508\n",
       "GarageCond      159  0.054508\n",
       "GarageType      157  0.053822\n",
       "BsmtCond         82  0.028111\n",
       "BsmtExposure     82  0.028111\n",
       "BsmtQual         81  0.027768\n",
       "BsmtFinType2     80  0.027425\n",
       "BsmtFinType1     79  0.027083\n",
       "MasVnrType       24  0.008228\n",
       "MasVnrArea       23  0.007885\n",
       "MSZoning          4  0.001371\n",
       "BsmtHalfBath      2  0.000686"
      ]
     },
     "execution_count": 89,
     "metadata": {},
     "output_type": "execute_result"
    }
   ],
   "source": [
    "#find the missing data\n",
    "total = all_data.isnull().sum().sort_values(ascending=False)\n",
    "percent = (all_data.isnull().sum()/all_data.isnull().count()).sort_values(ascending=False)\n",
    "missing_data = pd.concat([total, percent], axis=1, keys=['Total', 'Percent'])\n",
    "missing_data.head(20)"
   ]
  },
  {
   "cell_type": "code",
   "execution_count": 90,
   "metadata": {},
   "outputs": [],
   "source": [
    "# this is a lazy way, delete all columns that have more than 1 missing value :(\n",
    "# missing_data[missing_data['Total'] > 1].iloc[:,0] \n",
    "# list(missing_data[missing_data['Total'] > 1].columns.values)\n",
    "# delete_these_columns = list(missing_data[missing_data['Total'] > 1].index)\n",
    "\n",
    "#dealing with missing data (this is lame but probably fine for an example)\n",
    "#see link 1 at the top of the page for deep dive into data cleaning\n",
    "# df_train = df_train.drop(columns = delete_these_columns)\n",
    "# df_train = df_train.drop(df_train.loc[df_train['Electrical'].isnull()].index)\n",
    "# print(df_train.shape)"
   ]
  },
  {
   "cell_type": "code",
   "execution_count": 91,
   "metadata": {},
   "outputs": [],
   "source": [
    "# this is a much better way, impute whats missing, dont throw away any data\n",
    "# from https://www.kaggle.com/serigne/stacked-regressions-top-4-on-leaderboard\n",
    "all_data[\"LotFrontage\"] = all_data.groupby(\"Neighborhood\")[\"LotFrontage\"].transform(\n",
    "    lambda x: x.fillna(x.median()))\n",
    "all_data[\"PoolQC\"] = all_data[\"PoolQC\"].fillna(\"None\")\n",
    "\n",
    "all_data[\"MiscFeature\"] = all_data[\"MiscFeature\"].fillna(\"None\")\n",
    "all_data[\"Alley\"] = all_data[\"Alley\"].fillna(\"None\")\n",
    "all_data[\"Fence\"] = all_data[\"Fence\"].fillna(\"None\")\n",
    "all_data[\"FireplaceQu\"] = all_data[\"FireplaceQu\"].fillna(\"None\")\n",
    "for col in ('GarageType', 'GarageFinish', 'GarageQual', 'GarageCond'):\n",
    "    all_data[col] = all_data[col].fillna('None')\n",
    "for col in ('GarageYrBlt', 'GarageArea', 'GarageCars'):\n",
    "    all_data[col] = all_data[col].fillna(0)\n",
    "for col in ('BsmtFinSF1', 'BsmtFinSF2', 'BsmtUnfSF','TotalBsmtSF', 'BsmtFullBath', 'BsmtHalfBath'):\n",
    "    all_data[col] = all_data[col].fillna(0)\n",
    "for col in ('BsmtQual', 'BsmtCond', 'BsmtExposure', 'BsmtFinType1', 'BsmtFinType2'):\n",
    "    all_data[col] = all_data[col].fillna('None')\n",
    "all_data[\"MasVnrType\"] = all_data[\"MasVnrType\"].fillna(\"None\")\n",
    "all_data[\"MasVnrArea\"] = all_data[\"MasVnrArea\"].fillna(0)\n",
    "\n",
    "all_data[\"MSZoning\"].fillna(\"RL\", inplace=True)# 'RL' is the most common\n",
    "# all_data['MSZoning'] = all_data['MSZoning'].fillna(all_data['MSZoning'].mode()[0])\n",
    "\n",
    "all_data[\"Functional\"] = all_data[\"Functional\"].fillna(\"Typ\")\n",
    "all_data['Electrical'] = all_data['Electrical'].fillna(all_data['Electrical'].mode()[0])\n",
    "all_data['KitchenQual'] = all_data['KitchenQual'].fillna(all_data['KitchenQual'].mode()[0])\n",
    "all_data['Exterior1st'] = all_data['Exterior1st'].fillna(all_data['Exterior1st'].mode()[0])\n",
    "all_data['Exterior2nd'] = all_data['Exterior2nd'].fillna(all_data['Exterior2nd'].mode()[0])\n",
    "\n",
    "all_data[\"SaleType\"].fillna(\"WD\", inplace=True)\n",
    "# all_data['SaleType'] = all_data['SaleType'].fillna(all_data['SaleType'].mode()[0])\n",
    "\n",
    "all_data['MSSubClass'] = all_data['MSSubClass'].fillna(\"None\")\n",
    "\n",
    "all_data = all_data.drop(['Utilities'], axis=1)\n"
   ]
  },
  {
   "cell_type": "markdown",
   "metadata": {},
   "source": [
    "Transforming some numerical variables that are really categorical "
   ]
  },
  {
   "cell_type": "code",
   "execution_count": 92,
   "metadata": {},
   "outputs": [],
   "source": [
    "#MSSubClass=The building class\n",
    "all_data['MSSubClass'] = all_data['MSSubClass'].apply(str)\n",
    "\n",
    "#Changing OverallCond into a categorical variable\n",
    "all_data['OverallCond'] = all_data['OverallCond'].astype(str)\n",
    "\n",
    "#Year and month sold are transformed into categorical features.\n",
    "all_data['YrSold'] = all_data['YrSold'].astype(str)\n",
    "all_data['MoSold'] = all_data['MoSold'].astype(str)"
   ]
  },
  {
   "cell_type": "markdown",
   "metadata": {},
   "source": [
    "Get the total square feet = totalBsmtSF + 1stFlrSF + 2ndFlrSF"
   ]
  },
  {
   "cell_type": "code",
   "execution_count": 93,
   "metadata": {},
   "outputs": [],
   "source": [
    "# Adding total sqfootage feature \n",
    "all_data['TotalSF'] = all_data['TotalBsmtSF'] + all_data['1stFlrSF'] + all_data['2ndFlrSF']"
   ]
  },
  {
   "cell_type": "markdown",
   "metadata": {},
   "source": [
    "## Correlations"
   ]
  },
  {
   "cell_type": "code",
   "execution_count": 94,
   "metadata": {},
   "outputs": [
    {
     "data": {
      "image/png": "[encoded data removed]",
      "text/plain": [
       "<matplotlib.figure.Figure at 0x7f2a60e9eb00>"
      ]
     },
     "metadata": {},
     "output_type": "display_data"
    }
   ],
   "source": [
    "#correlation matrix\n",
    "corrmat = all_data.corr()\n",
    "f, ax = plt.subplots(figsize=(12, 9))\n",
    "sns.heatmap(corrmat, vmax=.8, square=True);"
   ]
  },
  {
   "cell_type": "code",
   "execution_count": 95,
   "metadata": {},
   "outputs": [],
   "source": [
    "#These pop out - we are looking for variables that are telling us the same thing - multicollinearity\n",
    "\n",
    "#TotalBsmntSF and 1stFlrSF are very highly correlated - basement sits below 1st floor\n",
    "#GarageCars and GarageArea are veryhighly correlated - bigger the area more cars can fit in\n",
    "#GarageYrBlt and YearBuilt are very highly correlated - usually build a garage same time as the house\n",
    "#TotRmsAbvGrd and GrLivArea are very highly correlated - more area the more rooms\n",
    "\n",
    "# Lets drop one of these from each pairing - how to decide which one look at correlation vs sale price and drop lower one\n",
    "all_data.drop(\"TotRmsAbvGrd\", axis = 1, inplace = True)\n",
    "all_data.drop(\"GarageYrBlt\", axis = 1, inplace = True)\n",
    "all_data.drop(\"GarageArea\", axis = 1, inplace = True)\n",
    "all_data.drop(\"1stFlrSF\", axis = 1, inplace = True)"
   ]
  },
  {
   "cell_type": "markdown",
   "metadata": {},
   "source": [
    "### Label Encoding some categorical variables that may contain information in their ordering (ordinal values)"
   ]
  },
  {
   "cell_type": "code",
   "execution_count": 96,
   "metadata": {},
   "outputs": [
    {
     "name": "stdout",
     "output_type": "stream",
     "text": [
      "Shape all_data: (2917, 75)\n"
     ]
    }
   ],
   "source": [
    "##learn.preprocessing import LabelEncoder\n",
    "cols = ('FireplaceQu', 'BsmtQual', 'BsmtCond', 'GarageQual', 'GarageCond', \n",
    "        'ExterQual', 'ExterCond','HeatingQC', 'PoolQC', 'KitchenQual', 'BsmtFinType1', \n",
    "        'BsmtFinType2', 'Functional', 'Fence', 'BsmtExposure', 'GarageFinish', 'LandSlope',\n",
    "        'LotShape', 'PavedDrive', 'Street', 'Alley', 'CentralAir', 'MSSubClass', 'OverallCond', \n",
    "        'YrSold', 'MoSold')\n",
    "# process columns, apply LabelEncoder to categorical features\n",
    "for c in cols:\n",
    "    lbl = LabelEncoder() \n",
    "    lbl.fit(list(all_data[c].values)) \n",
    "    all_data[c] = lbl.transform(list(all_data[c].values))\n",
    "\n",
    "# shape        \n",
    "print('Shape all_data: {}'.format(all_data.shape))"
   ]
  },
  {
   "cell_type": "code",
   "execution_count": 97,
   "metadata": {},
   "outputs": [],
   "source": [
    "# #skewed Features?  Did not try this\n",
    "# numeric_feats = all_data.dtypes[all_data.dtypes != \"object\"].index\n",
    "\n",
    "# # Check the skew of all numerical features\n",
    "# skewed_feats = all_data[numeric_feats].apply(lambda x: skew(x.dropna())).sort_values(ascending=False)\n",
    "# print(\"\\nSkew in numerical features: \\n\")\n",
    "# skewness = pd.DataFrame({'Skew' :skewed_feats})\n",
    "# skewness.head(10)\n"
   ]
  },
  {
   "cell_type": "markdown",
   "metadata": {},
   "source": [
    "We use the scipy function boxcox1p which computes the Box-Cox transformation of  1+x1+x .\n",
    "\n",
    "Note that setting  λ=0λ=0  is equivalent to log1p used above for the target variable.\n",
    "\n",
    "See this page for more details on Box Cox Transformation as well as the scipy function's page"
   ]
  },
  {
   "cell_type": "code",
   "execution_count": 98,
   "metadata": {},
   "outputs": [],
   "source": [
    "# skewness = skewness[abs(skewness) > 0.75]\n",
    "# print(\"There are {} skewed numerical features to Box Cox transform\".format(skewness.shape[0]))\n",
    "\n",
    "# from scipy.special import boxcox1p\n",
    "# skewed_features = skewness.index\n",
    "# lam = 0.15\n",
    "# for feat in skewed_features:\n",
    "#     #all_data[feat] += 1\n",
    "#     all_data[feat] = boxcox1p(all_data[feat], lam)\n",
    "    \n",
    "# #all_data[skewed_features] = np.log1p(all_data[skewed_features])"
   ]
  },
  {
   "cell_type": "markdown",
   "metadata": {},
   "source": [
    "### Get dummy variables"
   ]
  },
  {
   "cell_type": "code",
   "execution_count": 99,
   "metadata": {},
   "outputs": [
    {
     "data": {
      "text/plain": [
       "(2917, 216)"
      ]
     },
     "execution_count": 99,
     "metadata": {},
     "output_type": "execute_result"
    }
   ],
   "source": [
    "orig_shape = all_data.shape\n",
    "all_data = pd.get_dummies(all_data)\n",
    "all_data.shape"
   ]
  },
  {
   "cell_type": "markdown",
   "metadata": {},
   "source": [
    "# Split back out train and test set "
   ]
  },
  {
   "cell_type": "code",
   "execution_count": 100,
   "metadata": {},
   "outputs": [],
   "source": [
    "#get back original data\n",
    "df_train = all_data[:ntrain]\n",
    "df_test = all_data[ntrain:]"
   ]
  },
  {
   "cell_type": "code",
   "execution_count": 101,
   "metadata": {},
   "outputs": [
    {
     "name": "stdout",
     "output_type": "stream",
     "text": [
      "(1458, 216)\n",
      "(1459, 216)\n",
      "(1458,)\n"
     ]
    }
   ],
   "source": [
    "print(df_train.shape)\n",
    "print(df_test.shape)\n",
    "print(y.shape)"
   ]
  },
  {
   "cell_type": "markdown",
   "metadata": {},
   "source": [
    "# Create validation and training set"
   ]
  },
  {
   "cell_type": "code",
   "execution_count": 102,
   "metadata": {},
   "outputs": [
    {
     "data": {
      "text/plain": [
       "((1166, 216), (1166,), (292, 216))"
      ]
     },
     "execution_count": 102,
     "metadata": {},
     "output_type": "execute_result"
    }
   ],
   "source": [
    "def split_vals(a,n): return a[:n].copy(), a[n:].copy()\n",
    "\n",
    "n_valid = int(numb_rows*0.2)  # same as Kaggle's test set size\n",
    "n_trn = int(len(df_train)-n_valid)\n",
    "\n",
    "raw_train, raw_valid = split_vals(df_train, n_trn)\n",
    "X_train, X_valid = split_vals(df_train, n_trn)\n",
    "y_train, y_valid = split_vals(y, n_trn)\n",
    "\n",
    "X_train.shape, y_train.shape, X_valid.shape"
   ]
  },
  {
   "cell_type": "markdown",
   "metadata": {},
   "source": [
    "### We use the cross_val_score function of Sklearn. However this function has not a shuffle attribut, we add then one line of code, in order to shuffle the dataset prior to cross-validation"
   ]
  },
  {
   "cell_type": "code",
   "execution_count": 103,
   "metadata": {},
   "outputs": [],
   "source": [
    "from sklearn.model_selection import KFold, cross_val_score, train_test_split\n",
    "#Validation function\n",
    "n_folds = 5\n",
    "\n",
    "def rmsle_cv(model):\n",
    "    kf = KFold(n_folds, shuffle=True, random_state=42).get_n_splits(df_train.values)\n",
    "    rmse= np.sqrt(-cross_val_score(model, df_train.values, y, scoring=\"neg_mean_squared_error\", cv = kf))\n",
    "    return(rmse)"
   ]
  },
  {
   "cell_type": "markdown",
   "metadata": {},
   "source": [
    " ## Random Forrest Regressor"
   ]
  },
  {
   "cell_type": "code",
   "execution_count": 104,
   "metadata": {},
   "outputs": [],
   "source": [
    "def rmse(x,y): return math.sqrt(((x-y)**2).mean())\n",
    "\n",
    "def print_score(m):\n",
    "    res = [rmse(m.predict(X_train), y_train), rmse(m.predict(X_valid), y_valid),\n",
    "                m.score(X_train, y_train), m.score(X_valid, y_valid)]\n",
    "    if hasattr(m, 'oob_score_'): res.append(m.oob_score_)\n",
    "    print(res)"
   ]
  },
  {
   "cell_type": "code",
   "execution_count": 105,
   "metadata": {},
   "outputs": [
    {
     "name": "stdout",
     "output_type": "stream",
     "text": [
      "CPU times: user 280 ms, sys: 4 ms, total: 284 ms\n",
      "Wall time: 115 ms\n",
      "[0.06327525396707406, 0.14842383489639469, 0.9751805363004752, 0.8559721747383182]\n"
     ]
    }
   ],
   "source": [
    "# try one with validation set\n",
    "m_rf = RandomForestRegressor(n_jobs=-1)\n",
    "%time m_rf.fit(X_train, y_train)\n",
    "print_score(m_rf)\n",
    "\n",
    "# CPU times: user 272 ms, sys: 4 ms, total: 276 ms\n",
    "# Wall time: 116 ms\n",
    "# [11365.943311361803, 29441.96503508308, 0.9792271257647963, 0.8709453996412133]"
   ]
  },
  {
   "cell_type": "markdown",
   "metadata": {},
   "source": [
    "### Use OOB scoring (uses the unused rows in the random forrest as the validation set)"
   ]
  },
  {
   "cell_type": "code",
   "execution_count": 106,
   "metadata": {},
   "outputs": [
    {
     "name": "stdout",
     "output_type": "stream",
     "text": [
      "CPU times: user 1.44 s, sys: 4 ms, total: 1.44 s\n",
      "Wall time: 369 ms\n",
      "[0.052340884655430665, 0.05149056568761993, 0.9830173008329451, 0.9826661740116422, 0.8746216766892692]\n"
     ]
    }
   ],
   "source": [
    "#lets train up a forrest, use oob score which uses unsampled rows of each tree as a validation set\n",
    "m_rf = RandomForestRegressor(n_estimators=40, n_jobs=-1, oob_score=True)\n",
    "%time m_rf.fit(df_train, y)\n",
    "print_score(m_rf)\n",
    "\n",
    "# CPU times: user 1.28 s, sys: 4 ms, total: 1.28 s\n",
    "# Wall time: 258 ms\n",
    "# [9591.783583210936, 11492.642527469268, 0.9852060426209739, 0.9803356451817082, 0.8854766985774472]"
   ]
  },
  {
   "cell_type": "markdown",
   "metadata": {},
   "source": [
    "generate submission"
   ]
  },
  {
   "cell_type": "code",
   "execution_count": 107,
   "metadata": {},
   "outputs": [
    {
     "data": {
      "text/plain": [
       "array([125457.88467, 155322.23024, 174311.96582, ..., 159003.26266, 114147.55226, 226375.56764])"
      ]
     },
     "execution_count": 107,
     "metadata": {},
     "output_type": "execute_result"
    }
   ],
   "source": [
    "#make predictions\n",
    "predicted_prices_rf = m_rf.predict(df_test)\n",
    "\n",
    "#reverse the log +1\n",
    "predicted_prices_rf = np.expm1(predicted_prices_rf)\n",
    "predicted_prices_rf"
   ]
  },
  {
   "cell_type": "markdown",
   "metadata": {},
   "source": [
    "## XGBoost\n"
   ]
  },
  {
   "cell_type": "code",
   "execution_count": 47,
   "metadata": {
    "collapsed": true
   },
   "outputs": [],
   "source": [
    "import xgboost as xgb\n",
    "\n",
    "small_n = 200\n",
    "df_small = df_train[0:small_n]\n",
    "y_small = y[0:small_n]\n"
   ]
  },
  {
   "cell_type": "code",
   "execution_count": 48,
   "metadata": {
    "collapsed": true
   },
   "outputs": [],
   "source": [
    "# You can experiment with many other options here, using the same .fit() and .predict()\n",
    "# methods; see http://scikit-learn.org\n",
    "# This example uses the current build of XGBoost, from https://github.com/dmlc/xgboost\n",
    "# gbm = xgb.XGBClassifier(max_depth=3,n_thread=4, n_estimators=3, learning_rate=0.005)\n",
    "# gbm = xgb.XGBClassifier(nthread=4,silent=False)  #orig model with learning rate = .1\n",
    "# gbm = xgb.XGBClassifier(nthread=4,silent=False,learning_rate=0.005)"
   ]
  },
  {
   "cell_type": "code",
   "execution_count": 49,
   "metadata": {
    "collapsed": true
   },
   "outputs": [],
   "source": [
    "# #with 100 samples\n",
    "# %time  gbm.fit(df_small,y_small)\n",
    "# # CPU times: user 33.3 s, sys: 228 ms, total: 33.5 s\n",
    "# # Wall time: 8.39 s\n",
    "# # XGBClassifier(base_score=0.5, booster='gbtree', colsample_bylevel=1,\n",
    "# #        colsample_bytree=1, gamma=0, learning_rate=0.1, max_delta_step=0,\n",
    "# #        max_depth=3, min_child_weight=1, missing=None, n_estimators=100,\n",
    "# #        n_jobs=1, nthread=4, objective='multi:softprob', random_state=0,\n",
    "# #        reg_alpha=0, reg_lambda=1, scale_pos_weight=1, seed=None,\n",
    "# #        silent=False, subsample=1)\n"
   ]
  },
  {
   "cell_type": "code",
   "execution_count": 50,
   "metadata": {
    "collapsed": true
   },
   "outputs": [],
   "source": [
    "#with 200 samples\n",
    "# %time  gbm.fit(df_small,y_small)"
   ]
  },
  {
   "cell_type": "code",
   "execution_count": 51,
   "metadata": {
    "collapsed": true
   },
   "outputs": [],
   "source": [
    "#with 300 samples\n",
    "# %time  gbm.fit(df_small,y_small)\n",
    "# CPU times: user 6min 22s, sys: 1.17 s, total: 6min 23s\n",
    "# Wall time: 1min 35s"
   ]
  },
  {
   "cell_type": "code",
   "execution_count": 52,
   "metadata": {
    "collapsed": true
   },
   "outputs": [],
   "source": [
    "#with the entire train dataset\n",
    "# %time  gbm.fit(df_train,y)\n",
    "# CPU times: user 4h 5min 32s, sys: 15.8 s, total: 4h 5min 47s\n",
    "# Wall time: 1h 1min 30s"
   ]
  },
  {
   "cell_type": "code",
   "execution_count": 53,
   "metadata": {
    "collapsed": true
   },
   "outputs": [],
   "source": [
    "# predictionsgbm = gbm.predict(df_test)"
   ]
  },
  {
   "cell_type": "markdown",
   "metadata": {},
   "source": [
    "# Lets try lightGBM"
   ]
  },
  {
   "cell_type": "code",
   "execution_count": 59,
   "metadata": {
    "collapsed": true
   },
   "outputs": [],
   "source": [
    "import lightgbm"
   ]
  },
  {
   "cell_type": "code",
   "execution_count": 60,
   "metadata": {
    "collapsed": true
   },
   "outputs": [
    {
     "data": {
      "text/plain": [
       "((1166, 216), (1166,), (292, 216))"
      ]
     },
     "execution_count": 60,
     "metadata": {},
     "output_type": "execute_result"
    }
   ],
   "source": [
    "#\n",
    "# Create the LightGBM data containers\n",
    "#\n",
    "# categorical_features = [c for c, col in enumerate(train.columns) if 'cat' in col]  # none its one hotted\n",
    "train_data = lightgbm.Dataset(X_train, label=y_train)\n",
    "test_data = lightgbm.Dataset(X_valid, label=y_valid)\n",
    "\n",
    "X_train.shape, y_train.shape, X_valid.shape"
   ]
  },
  {
   "cell_type": "code",
   "execution_count": 66,
   "metadata": {
    "collapsed": true
   },
   "outputs": [],
   "source": [
    "#this model came from #2 above\n",
    "model_lgbm1 = lightgbm.LGBMRegressor(objective='regression',num_leaves=5,\n",
    "                              learning_rate=0.05, n_estimators=720,\n",
    "                              max_bin = 55, bagging_fraction = 0.8,\n",
    "                              bagging_freq = 5, feature_fraction = 0.2319,\n",
    "                              feature_fraction_seed=9, bagging_seed=9,\n",
    "                              min_data_in_leaf =6, min_sum_hessian_in_leaf = 11)"
   ]
  },
  {
   "cell_type": "code",
   "execution_count": 71,
   "metadata": {
    "collapsed": true
   },
   "outputs": [
    {
     "name": "stdout",
     "output_type": "stream",
     "text": [
      "LGBM score: 0.1167 (0.0044)\n",
      "\n"
     ]
    }
   ],
   "source": [
    "score = rmsle_cv(model_lgbm1)\n",
    "print(\"LGBM score: {:.4f} ({:.4f})\\n\" .format(score.mean(), score.std()))"
   ]
  },
  {
   "cell_type": "markdown",
   "metadata": {},
   "source": [
    "## Fit, then Predict, then reverse the log+1 "
   ]
  },
  {
   "cell_type": "code",
   "execution_count": 74,
   "metadata": {},
   "outputs": [
    {
     "data": {
      "text/plain": [
       "array([119331.40167, 154526.02558, 186359.15467, ..., 160171.25645, 119130.34739, 219745.31623])"
      ]
     },
     "execution_count": 74,
     "metadata": {},
     "output_type": "execute_result"
    }
   ],
   "source": [
    "#fit the model\n",
    "model_lgbm1.fit(df_train, y)\n",
    "\n",
    "#make predictions\n",
    "predicted_prices_lgbm = model_lgbm1.predict(df_test)\n",
    "\n",
    "#reverse the log +1\n",
    "predicted_prices_lgbm = np.expm1(predicted_prices_lgbm)\n",
    "predicted_prices_lgbm"
   ]
  },
  {
   "cell_type": "markdown",
   "metadata": {
    "collapsed": true
   },
   "source": [
    "## Prepare Submission Files\n",
    "from https://www.kaggle.com/dansbecker/submitting-from-a-kernel<br>\n",
    "We make submissions in CSV files. Your submissions usually have two columns: an ID column and a prediction column. The ID field comes from the test data (keeping whatever name the ID field had in that data, which for the housing data is the string 'Id'). The prediction column will use the name of the target field.\n",
    "\n",
    "We will create a DataFrame with this data, and then use the dataframe's to_csv method to write our submission file. Explicitly include the argument index=False to prevent pandas from adding another column in our csv file."
   ]
  },
  {
   "cell_type": "code",
   "execution_count": 109,
   "metadata": {},
   "outputs": [],
   "source": [
    "#a submission for m_rf\n",
    "my_submission = pd.DataFrame({'Id': df_test_Id, 'SalePrice': predicted_prices_rf})\n",
    "# you could use any filename. We choose submission here\n",
    "my_submission.to_csv('submission_rf.csv', index=False)"
   ]
  },
  {
   "cell_type": "code",
   "execution_count": 75,
   "metadata": {
    "collapsed": true
   },
   "outputs": [],
   "source": [
    "#a submission for lightgbm\n",
    "my_submission = pd.DataFrame({'Id': df_test_Id, 'SalePrice': predicted_prices_lgbm})\n",
    "# you could use any filename. We choose submission here\n",
    "my_submission.to_csv('submission_lgbm.csv', index=False)"
   ]
  },
  {
   "cell_type": "code",
   "execution_count": 53,
   "metadata": {
    "collapsed": true
   },
   "outputs": [],
   "source": [
    "#a submission for XGBoost\n",
    "my_submission = pd.DataFrame({'Id': df_test_Id, 'SalePrice': predictionsgbm})\n",
    "# you could use any filename. We choose submission here\n",
    "my_submission.to_csv('submissionxgboost.csv', index=False)"
   ]
  }
 ],
 "metadata": {
  "kernelspec": {
   "display_name": "Python 3",
   "language": "python",
   "name": "python3"
  },
  "language_info": {
   "codemirror_mode": {
    "name": "ipython",
    "version": 3
   },
   "file_extension": ".py",
   "mimetype": "text/x-python",
   "name": "python",
   "nbconvert_exporter": "python",
   "pygments_lexer": "ipython3",
   "version": "3.6.4"
  }
 },
 "nbformat": 4,
 "nbformat_minor": 2
}
